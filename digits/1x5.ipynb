{
 "cells": [
  {
   "cell_type": "code",
   "execution_count": 1,
   "metadata": {},
   "outputs": [],
   "source": [
    "from pathlib import Path\n",
    "import numpy as np\n",
    "from data.df_io import read, get_feat_lables\n",
    "from data.df_prep import get_specific_split, pre_processing\n",
    "from ai_models.PLA import PLA, PocketPLA\n",
    "from ai_models.regression import LinearRegression, LogisticRegression\n",
    "from metrics.metrics import compute_acc, confusion, eficiency_report\n",
    "from visualization.models_plots import show_model_line\n",
    "\n",
    "\n",
    "train_path = Path(\"../digits/db/train_redu_v.csv\")\n",
    "test_path = Path(\"../digits/db/test_redu_v.csv\")"
   ]
  },
  {
   "cell_type": "code",
   "execution_count": 2,
   "metadata": {},
   "outputs": [],
   "source": [
    "df_train = read(train_path, sep=\",\")\n",
    "df_test = read(test_path, sep=\",\")"
   ]
  },
  {
   "cell_type": "code",
   "execution_count": 3,
   "metadata": {},
   "outputs": [],
   "source": [
    "X_train, Y_train = get_feat_lables(df_train)\n",
    "X_test, Y_test = get_feat_lables(df_test)"
   ]
  },
  {
   "cell_type": "markdown",
   "metadata": {},
   "source": [
    "## Get specific 1x5 dataset"
   ]
  },
  {
   "cell_type": "code",
   "execution_count": 4,
   "metadata": {},
   "outputs": [],
   "source": [
    "X_train_1x5, Y_train_1x5 = get_specific_split(X_train, Y_train, 1, 5)\n",
    "X_test_1x5, Y_test_1x5 = get_specific_split(X_test, Y_test, 1, 5)"
   ]
  },
  {
   "cell_type": "code",
   "execution_count": 5,
   "metadata": {},
   "outputs": [
    {
     "data": {
      "text/plain": [
       "array([[ 44.7       ,  35.25098039],\n",
       "       [ 59.85      ,  39.82745098],\n",
       "       [ 48.55      ,  39.57254902],\n",
       "       ...,\n",
       "       [110.73      ,  65.03137255],\n",
       "       [ 99.31      ,  70.27058824],\n",
       "       [101.17      ,  63.3372549 ]])"
      ]
     },
     "execution_count": 5,
     "metadata": {},
     "output_type": "execute_result"
    }
   ],
   "source": [
    "X_train_1x5"
   ]
  },
  {
   "cell_type": "code",
   "execution_count": 6,
   "metadata": {},
   "outputs": [
    {
     "data": {
      "text/plain": [
       "array([ 1,  1,  1, ..., -1, -1, -1])"
      ]
     },
     "execution_count": 6,
     "metadata": {},
     "output_type": "execute_result"
    }
   ],
   "source": [
    "Y_train_1x5"
   ]
  },
  {
   "cell_type": "code",
   "execution_count": 7,
   "metadata": {},
   "outputs": [
    {
     "data": {
      "text/plain": [
       "array([[1.],\n",
       "       [1.],\n",
       "       [1.],\n",
       "       ...,\n",
       "       [1.],\n",
       "       [1.],\n",
       "       [1.]])"
      ]
     },
     "execution_count": 7,
     "metadata": {},
     "output_type": "execute_result"
    }
   ],
   "source": [
    "base_column = np.ones((X_train_1x5.shape[0], 1))\n",
    "base_column"
   ]
  },
  {
   "cell_type": "code",
   "execution_count": 8,
   "metadata": {},
   "outputs": [
    {
     "data": {
      "text/plain": [
       "array([[  1.        ,  44.7       ,  35.25098039],\n",
       "       [  1.        ,  59.85      ,  39.82745098],\n",
       "       [  1.        ,  48.55      ,  39.57254902],\n",
       "       ...,\n",
       "       [  1.        , 110.73      ,  65.03137255],\n",
       "       [  1.        ,  99.31      ,  70.27058824],\n",
       "       [  1.        , 101.17      ,  63.3372549 ]])"
      ]
     },
     "execution_count": 8,
     "metadata": {},
     "output_type": "execute_result"
    }
   ],
   "source": [
    "X_train_1x5 = np.hstack((base_column, X_train_1x5))\n",
    "X_train_1x5"
   ]
  },
  {
   "cell_type": "code",
   "execution_count": 9,
   "metadata": {},
   "outputs": [
    {
     "data": {
      "text/plain": [
       "array([[  1.        ,  51.64      ,  35.6627451 ],\n",
       "       [  1.        ,  51.67      ,  43.07058824],\n",
       "       [  1.        ,  44.85      ,  36.42352941],\n",
       "       ...,\n",
       "       [  1.        ,  95.14      ,  59.15686275],\n",
       "       [  1.        , 106.88      ,  58.16862745],\n",
       "       [  1.        , 117.64      ,  68.65882353]])"
      ]
     },
     "execution_count": 9,
     "metadata": {},
     "output_type": "execute_result"
    }
   ],
   "source": [
    "base_column = np.ones((X_test_1x5.shape[0], 1))\n",
    "X_test_1x5 = np.hstack((base_column, X_test_1x5))\n",
    "X_test_1x5"
   ]
  },
  {
   "cell_type": "code",
   "execution_count": 10,
   "metadata": {},
   "outputs": [],
   "source": [
    "zeros_Y_train_1x5 = Y_train_1x5.copy()\n",
    "zeros_Y_train_1x5[zeros_Y_train_1x5 == -1] = 0\n",
    "\n",
    "zeros_Y_test_1x5 = Y_test_1x5.copy()\n",
    "zeros_Y_test_1x5[zeros_Y_test_1x5 == -1] = 0"
   ]
  },
  {
   "cell_type": "markdown",
   "metadata": {},
   "source": [
    "## Train and test PLA"
   ]
  },
  {
   "cell_type": "code",
   "execution_count": 11,
   "metadata": {},
   "outputs": [],
   "source": [
    "pla_model = PLA()\n",
    "it, w, W = pla_model.fit(X_train_1x5, Y_train_1x5, epochs=1000)"
   ]
  },
  {
   "cell_type": "code",
   "execution_count": 12,
   "metadata": {},
   "outputs": [
    {
     "data": {
      "text/plain": [
       "0.5625"
      ]
     },
     "execution_count": 12,
     "metadata": {},
     "output_type": "execute_result"
    }
   ],
   "source": [
    "Y_pred = pla_model.predict(X_train_1x5, w)\n",
    "compute_acc(Y_train_1x5, Y_pred)"
   ]
  },
  {
   "cell_type": "code",
   "execution_count": 13,
   "metadata": {},
   "outputs": [
    {
     "data": {
      "text/plain": [
       "1000"
      ]
     },
     "execution_count": 13,
     "metadata": {},
     "output_type": "execute_result"
    }
   ],
   "source": [
    "it"
   ]
  },
  {
   "cell_type": "code",
   "execution_count": 14,
   "metadata": {},
   "outputs": [
    {
     "data": {
      "text/plain": [
       "0.5454545454545454"
      ]
     },
     "execution_count": 14,
     "metadata": {},
     "output_type": "execute_result"
    }
   ],
   "source": [
    "Y_pred = pla_model.predict(X_test_1x5, w)\n",
    "compute_acc(Y_test_1x5, Y_pred)"
   ]
  },
  {
   "cell_type": "code",
   "execution_count": 15,
   "metadata": {},
   "outputs": [
    {
     "data": {
      "text/plain": [
       "{'acc': 0.5454545454545454,\n",
       " 'precision': np.float64(0.5248618784530387),\n",
       " 'recall': np.float64(0.976027397260274),\n",
       " 'f1': np.float64(0.6826347305389222)}"
      ]
     },
     "execution_count": 15,
     "metadata": {},
     "output_type": "execute_result"
    }
   ],
   "source": [
    "eficiency_report(Y_test_1x5, Y_pred)"
   ]
  },
  {
   "cell_type": "code",
   "execution_count": 16,
   "metadata": {},
   "outputs": [
    {
     "data": {
      "image/png": "[encoded data removed]",
      "text/plain": [
       "<Figure size 640x480 with 2 Axes>"
      ]
     },
     "metadata": {},
     "output_type": "display_data"
    }
   ],
   "source": [
    "confusion(Y_test_1x5, Y_pred)"
   ]
  },
  {
   "cell_type": "code",
   "execution_count": 17,
   "metadata": {},
   "outputs": [],
   "source": [
    "# show_model_line(\n",
    "#     pd.DataFrame(X_train_1x5, columns=[\"intensity\", \"symmetry\"]),\n",
    "#     pd.DataFrame(Y_train_1x5, columns=[\"label\"]), \n",
    "#     d1=1, \n",
    "#     d2=5,\n",
    "#     w=w,\n",
    "# )"
   ]
  },
  {
   "cell_type": "markdown",
   "metadata": {},
   "source": [
    "## Train and test linear regression"
   ]
  },
  {
   "cell_type": "code",
   "execution_count": 18,
   "metadata": {},
   "outputs": [],
   "source": [
    "linear_model = LinearRegression()\n",
    "linear_model.fit(X_train_1x5, Y_train_1x5)\n",
    "w = linear_model.getW()"
   ]
  },
  {
   "cell_type": "code",
   "execution_count": 19,
   "metadata": {},
   "outputs": [
    {
     "data": {
      "text/plain": [
       "1.0"
      ]
     },
     "execution_count": 19,
     "metadata": {},
     "output_type": "execute_result"
    }
   ],
   "source": [
    "Y_pred = linear_model.predict(X_train_1x5)\n",
    "compute_acc(Y_train_1x5, Y_pred)"
   ]
  },
  {
   "cell_type": "code",
   "execution_count": 20,
   "metadata": {},
   "outputs": [
    {
     "data": {
      "text/plain": [
       "1.0"
      ]
     },
     "execution_count": 20,
     "metadata": {},
     "output_type": "execute_result"
    }
   ],
   "source": [
    "Y_pred = linear_model.predict(X_test_1x5)\n",
    "compute_acc(Y_test_1x5, Y_pred)"
   ]
  },
  {
   "cell_type": "code",
   "execution_count": 21,
   "metadata": {},
   "outputs": [
    {
     "data": {
      "text/plain": [
       "{'acc': 1.0,\n",
       " 'precision': np.float64(1.0),\n",
       " 'recall': np.float64(1.0),\n",
       " 'f1': np.float64(1.0)}"
      ]
     },
     "execution_count": 21,
     "metadata": {},
     "output_type": "execute_result"
    }
   ],
   "source": [
    "eficiency_report(Y_test_1x5, Y_pred)"
   ]
  },
  {
   "cell_type": "code",
   "execution_count": 22,
   "metadata": {},
   "outputs": [
    {
     "data": {
      "image/png": "[encoded data removed]",
      "text/plain": [
       "<Figure size 640x480 with 2 Axes>"
      ]
     },
     "metadata": {},
     "output_type": "display_data"
    }
   ],
   "source": [
    "confusion(Y_test_1x5, Y_pred)"
   ]
  },
  {
   "cell_type": "markdown",
   "metadata": {},
   "source": [
    "## Train and test logistic regression"
   ]
  },
  {
   "cell_type": "code",
   "execution_count": 23,
   "metadata": {},
   "outputs": [],
   "source": [
    "linear_model = LogisticRegression(lr=0.001, n_iters=10000, bs=128)\n",
    "linear_model.fit(X_train_1x5, zeros_Y_train_1x5)\n",
    "w = linear_model.getW()"
   ]
  },
  {
   "cell_type": "code",
   "execution_count": 24,
   "metadata": {},
   "outputs": [
    {
     "data": {
      "text/plain": [
       "np.float64(0.1859920275466482)"
      ]
     },
     "execution_count": 24,
     "metadata": {},
     "output_type": "execute_result"
    }
   ],
   "source": [
    "linear_model.cost"
   ]
  },
  {
   "cell_type": "code",
   "execution_count": 25,
   "metadata": {},
   "outputs": [
    {
     "data": {
      "text/plain": [
       "0.9983108108108109"
      ]
     },
     "execution_count": 25,
     "metadata": {},
     "output_type": "execute_result"
    }
   ],
   "source": [
    "Y_pred = linear_model.predict(X_train_1x5)\n",
    "compute_acc(zeros_Y_train_1x5, Y_pred)"
   ]
  },
  {
   "cell_type": "code",
   "execution_count": 26,
   "metadata": {},
   "outputs": [
    {
     "data": {
      "text/plain": [
       "0.9982847341337907"
      ]
     },
     "execution_count": 26,
     "metadata": {},
     "output_type": "execute_result"
    }
   ],
   "source": [
    "Y_pred = linear_model.predict(X_test_1x5)\n",
    "compute_acc(zeros_Y_test_1x5, Y_pred)"
   ]
  },
  {
   "cell_type": "code",
   "execution_count": 27,
   "metadata": {},
   "outputs": [
    {
     "data": {
      "text/plain": [
       "{'acc': 0.9982847341337907,\n",
       " 'precision': np.float64(1.0),\n",
       " 'recall': np.float64(0.9965753424657534),\n",
       " 'f1': np.float64(0.9982847341337907)}"
      ]
     },
     "execution_count": 27,
     "metadata": {},
     "output_type": "execute_result"
    }
   ],
   "source": [
    "eficiency_report(zeros_Y_test_1x5, Y_pred)"
   ]
  },
  {
   "cell_type": "code",
   "execution_count": 28,
   "metadata": {},
   "outputs": [
    {
     "data": {
      "image/png": "[encoded data removed]",
      "text/plain": [
       "<Figure size 640x480 with 2 Axes>"
      ]
     },
     "metadata": {},
     "output_type": "display_data"
    }
   ],
   "source": [
    "confusion(zeros_Y_test_1x5, Y_pred, 0, 1)"
   ]
  }
 ],
 "metadata": {
  "kernelspec": {
   "display_name": "Python 3",
   "language": "python",
   "name": "python3"
  },
  "language_info": {
   "codemirror_mode": {
    "name": "ipython",
    "version": 3
   },
   "file_extension": ".py",
   "mimetype": "text/x-python",
   "name": "python",
   "nbconvert_exporter": "python",
   "pygments_lexer": "ipython3",
   "version": "3.11.9"
  }
 },
 "nbformat": 4,
 "nbformat_minor": 2
}
